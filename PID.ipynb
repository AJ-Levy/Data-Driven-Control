{
 "cells": [
  {
   "cell_type": "markdown",
   "metadata": {},
   "source": [
    "# Implementation of **PID** for Non-Linear Binary Control Systems"
   ]
  },
  {
   "cell_type": "markdown",
   "metadata": {},
   "source": [
    "PID will be applied in the context of: inverted pendulum and DC-DC buck-boost converters."
   ]
  },
  {
   "cell_type": "markdown",
   "metadata": {},
   "source": [
    "## Setup"
   ]
  },
  {
   "cell_type": "markdown",
   "metadata": {},
   "source": [
    "### Importing Modules"
   ]
  },
  {
   "cell_type": "code",
<<<<<<< HEAD
   "execution_count": 1,
   "metadata": {},
   "outputs": [],
   "source": [
    "import numpy as np"
=======
   "execution_count": 4,
   "metadata": {},
   "outputs": [],
   "source": [
    "import numpy as np\n",
    "import matlab.engine"
>>>>>>> 914bae4 (Testing commits)
   ]
  },
  {
   "cell_type": "markdown",
   "metadata": {},
   "source": [
    "### Defining Global Variables"
   ]
  },
  {
   "cell_type": "code",
   "execution_count": 2,
   "metadata": {},
   "outputs": [],
   "source": [
    "time = 0\n",
    "integral = 0\n",
    "time_prev = -1e-6\n",
    "error_prev = 0"
   ]
  },
  {
   "cell_type": "markdown",
   "metadata": {},
   "source": [
    "## PID Control"
   ]
  },
  {
   "cell_type": "markdown",
   "metadata": {},
   "source": [
    "Here the controller output signal `u` is defined in terms of the gain coefficients `K`, as well as the `desired` and `measured` signals."
   ]
  },
  {
   "cell_type": "code",
   "execution_count": 3,
   "metadata": {},
   "outputs": [],
   "source": [
    "def u(Kp, Ki, Kd, desired, measured):\n",
    "    global time, integral, time_prev, error_prev\n",
    "    \n",
    "    # Error\n",
    "    error = desired - measured\n",
    "\n",
    "    # Gain Coefficients\n",
    "    P = Kp * error\n",
    "    integral = integral + Ki * error * (time - time_prev)\n",
    "    D = Kd * (error - error_prev)/(time - time_prev)\n",
    "\n",
    "    # Controller Output Signal\n",
<<<<<<< HEAD
    "    output_signal = P + integral + D\n",
=======
    "    u = P + integral + D\n",
>>>>>>> 914bae4 (Testing commits)
    "\n",
    "    # Update for Next Iteration\n",
    "    error_prev = error\n",
    "    time_prev = time\n",
    "\n",
<<<<<<< HEAD
    "    return output_signal"
=======
    "    return u"
>>>>>>> 914bae4 (Testing commits)
   ]
  },
  {
   "cell_type": "markdown",
   "metadata": {},
   "source": [
    "## Inverted Pendulum"
   ]
  },
  {
   "cell_type": "markdown",
   "metadata": {},
   "source": [
    "### Linear System\n",
    "The angle `θ` (in radians) of the pendulum is given as a function of time `t` and other system parameters."
   ]
  },
  {
   "cell_type": "code",
   "execution_count": 5,
   "metadata": {},
   "outputs": [],
   "source": [
    "def theta(intial_angle, L, t,  g=9.81):\n",
    "    return intial_angle * np.cos(np.sqrt(g/L)*t)"
   ]
  },
  {
   "cell_type": "markdown",
   "metadata": {},
   "source": [
    "## Main\n",
<<<<<<< HEAD
    "Here PID will be applied to the Simulink Models for the inverted pendulum and DC-DC buck-boost converter systems."
=======
    "Here PID will be applied to the Simulink models for the inverted pendulum and DC-DC buck-boost converter systems."
>>>>>>> 914bae4 (Testing commits)
   ]
  }
 ],
 "metadata": {
  "kernelspec": {
   "display_name": "Python 3",
   "language": "python",
   "name": "python3"
  },
  "language_info": {
   "codemirror_mode": {
    "name": "ipython",
    "version": 3
   },
   "file_extension": ".py",
   "mimetype": "text/x-python",
   "name": "python",
   "nbconvert_exporter": "python",
   "pygments_lexer": "ipython3",
   "version": "3.11.9"
  }
 },
 "nbformat": 4,
 "nbformat_minor": 2
}
